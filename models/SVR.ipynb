{
  "cells": [
    {
      "cell_type": "markdown",
      "metadata": {
        "id": "0iFRXdR9ZYZr"
      },
      "source": [
        "# Model 5- Support Vector Regression(SVR)"
      ]
    },
    {
      "cell_type": "code",
      "execution_count": null,
      "metadata": {
        "id": "SWfEtWCiZZce"
      },
      "outputs": [],
      "source": [
        "def run_SVR(my_data, features, indyvar):\n",
        "    print(\"yvar is \" + str(indyvar))\n",
        "    data_merge_SVR = my_data.dropna()\n",
        "\n",
        "    sel_recon_SVR = features\n",
        "    x = data_merge_SVR.loc[:, sel_recon_SVR]\n",
        "    y = np.ravel(data_merge_SVR.loc[:, indyvar])\n",
        "\n",
        "    list_numerical = x.columns\n",
        "    X_train, X_test, y_train, y_test = train_test_split(x, y, test_size=0.3, random_state=10)\n",
        "\n",
        "    scaler = StandardScaler().fit(X_train[list_numerical])\n",
        "\n",
        "    X_train[list_numerical] = scaler.transform(X_train[list_numerical])\n",
        "    X_test[list_numerical] = scaler.transform(X_test[list_numerical])\n",
        "\n",
        "    # Initialize and train the SVR model\n",
        "    svr_reg = SVR(kernel='linear', C=1.0, epsilon=0.2)\n",
        "    svr_reg.fit(X_train, y_train)\n",
        "\n",
        "    # Training data\n",
        "    pred_train = svr_reg.predict(X_train)\n",
        "    mse_train = mean_squared_error(y_train, pred_train)\n",
        "    print('MSE training set', round(mse_train, 2))\n",
        "\n",
        "    # Test data\n",
        "    pred = svr_reg.predict(X_test)\n",
        "    mse_test = mean_squared_error(y_test, pred)\n",
        "    print('MSE test set', round(mse_test, 2))\n",
        "\n",
        "    # Support Vector Regression doesn't have an alpha parameter, so we don't need to iterate over alphas\n",
        "\n",
        "    # No need for cross-validation in SVR\n",
        "    print('R squared training set', round(svr_reg.score(X_train, y_train), 2))\n",
        "    print('R squared test set', round(svr_reg.score(X_test, y_test), 2))\n",
        "\n",
        "    mean_squared_error(y_test, svr_reg.predict(X_test))\n",
        "\n",
        "    # Plotting Coefficients is not applicable to SVR, so we remove this section\n",
        "\n",
        "    # Return SVR predictions\n",
        "    y_pred = svr_reg.predict(x)\n",
        "    return y_pred\n"
      ]
    },
    {
      "cell_type": "markdown",
      "metadata": {
        "id": "awWqWO4Nam1k"
      },
      "source": [
        "## Predict grading features from shapemetrics data - SVR"
      ]
    },
    {
      "cell_type": "code",
      "execution_count": null,
      "metadata": {
        "id": "Ojmq5tRWatb4"
      },
      "outputs": [],
      "source": [
        "grading_ind = ['roundness', 'tailedness', 'blockiness', 'curviness']\n",
        "shapemetrics_ind = ['firstorder_count', 'tail_count','residerror_count', 'roothairs_count', 'sphereerrors_count', 'largeresiderror_count', 'area_px','length_px', 'width_px', 'weight_oz', 'length_in','width_in']\n",
        "usno1 = ['deviation_from_usno1']"
      ]
    },
    {
      "cell_type": "code",
      "execution_count": null,
      "metadata": {
        "id": "7ZfmSfxQavd7"
      },
      "outputs": [],
      "source": [
        "# SELECT USER ROLE IF YOU WANT TO SPLIT IT\n",
        "data_z = data_z.loc[data_z['user_role'] == \"Breeder\"]"
      ]
    },
    {
      "cell_type": "code",
      "execution_count": null,
      "metadata": {
        "colab": {
          "base_uri": "https://localhost:8080/"
        },
        "id": "3HfXGLaeaxhn",
        "outputId": "00d796bd-8720-4df6-bcb1-062ea8c81826"
      },
      "outputs": [
        {
          "name": "stdout",
          "output_type": "stream",
          "text": [
            "yvar is ['deviation_from_usno1']\n",
            "MSE training set 307.35\n",
            "MSE test set 367.96\n",
            "R squared training set 0.52\n",
            "R squared test set 0.48\n",
            "yvar is ['deviation_from_usno1']\n",
            "MSE training set 529.59\n",
            "MSE test set 661.61\n",
            "R squared training set 0.18\n",
            "R squared test set 0.07\n",
            "yvar is ['roundness']\n",
            "MSE training set 358.48\n",
            "MSE test set 409.26\n",
            "R squared training set 0.61\n",
            "R squared test set 0.53\n",
            "yvar is ['tailedness']\n",
            "MSE training set 768.38\n",
            "MSE test set 795.63\n",
            "R squared training set 0.29\n",
            "R squared test set 0.2\n",
            "yvar is ['blockiness']\n",
            "MSE training set 541.8\n",
            "MSE test set 531.25\n",
            "R squared training set 0.16\n",
            "R squared test set 0.12\n",
            "yvar is ['curviness']\n",
            "MSE training set 507.88\n",
            "MSE test set 698.89\n",
            "R squared training set -0.0\n",
            "R squared test set -0.07\n"
          ]
        },
        {
          "data": {
            "text/plain": [
              "array([-237729.89862566, -180740.83092727, -180740.83092727, ...,\n",
              "       -172919.8911411 , -133212.02410141, -156132.23558802])"
            ]
          },
          "execution_count": 52,
          "metadata": {},
          "output_type": "execute_result"
        }
      ],
      "source": [
        "# devUS#1 from grading\n",
        "run_SVR(my_data = data_z, features=grading_ind, indyvar= ['deviation_from_usno1'])\n",
        "\n",
        "# devUS#1 from reconstruction\n",
        "run_SVR(my_data = data_z, features=shapemetrics_ind, indyvar= ['deviation_from_usno1'])\n",
        "\n",
        "# roundness from reconstruction\n",
        "run_SVR(my_data = data_z, features=shapemetrics_ind, indyvar= ['roundness'])\n",
        "\n",
        "# tailedness from reconstruction\n",
        "run_SVR(my_data = data_z, features=shapemetrics_ind, indyvar= ['tailedness'])\n",
        "\n",
        "# blockiness from reconstruction\n",
        "run_SVR(my_data = data_z, features=shapemetrics_ind, indyvar= ['blockiness'])\n",
        "\n",
        "# curviness from reconstruction\n",
        "run_SVR(my_data = data_z, features=shapemetrics_ind, indyvar= ['curviness'])"
      ]
    },
    {
      "cell_type": "markdown",
      "metadata": {
        "id": "E8Fnm4fja-mp"
      },
      "source": [
        "## Predict from prediction (see description)\n",
        "We use SVR to predict each grading feature (roundness, curviness, tailedness, blockiness) from the shapemetrics data. Then, we use those predictions to predict deviation from USNo1"
      ]
    },
    {
      "cell_type": "code",
      "execution_count": null,
      "metadata": {
        "colab": {
          "base_uri": "https://localhost:8080/"
        },
        "id": "syWWMyPybB2G",
        "outputId": "df63cb44-4cfb-4de6-b0c8-999f052105e4"
      },
      "outputs": [
        {
          "name": "stdout",
          "output_type": "stream",
          "text": [
            "yvar is ['roundness']\n",
            "MSE training set 358.48\n",
            "MSE test set 409.26\n",
            "R squared training set 0.61\n",
            "R squared test set 0.53\n",
            "yvar is ['curviness']\n",
            "MSE training set 507.88\n",
            "MSE test set 698.89\n"
          ]
        },
        {
          "name": "stderr",
          "output_type": "stream",
          "text": [
            "<ipython-input-53-1352bde4deec>:4: SettingWithCopyWarning: \n",
            "A value is trying to be set on a copy of a slice from a DataFrame.\n",
            "Try using .loc[row_indexer,col_indexer] = value instead\n",
            "\n",
            "See the caveats in the documentation: https://pandas.pydata.org/pandas-docs/stable/user_guide/indexing.html#returning-a-view-versus-a-copy\n",
            "  data_pred2['roundness'] = run_SVR(my_data = data_merge_z3, features=shapemetrics_ind, indyvar= ['roundness'])\n",
            "<ipython-input-53-1352bde4deec>:5: SettingWithCopyWarning: \n",
            "A value is trying to be set on a copy of a slice from a DataFrame.\n",
            "Try using .loc[row_indexer,col_indexer] = value instead\n",
            "\n",
            "See the caveats in the documentation: https://pandas.pydata.org/pandas-docs/stable/user_guide/indexing.html#returning-a-view-versus-a-copy\n",
            "  data_pred2['curviness'] = run_SVR(my_data = data_merge_z3, features=shapemetrics_ind, indyvar= ['curviness'])\n"
          ]
        },
        {
          "name": "stdout",
          "output_type": "stream",
          "text": [
            "R squared training set -0.0\n",
            "R squared test set -0.07\n",
            "yvar is ['tailedness']\n",
            "MSE training set 768.38\n",
            "MSE test set 795.63\n",
            "R squared training set 0.29\n",
            "R squared test set 0.2\n",
            "yvar is ['blockiness']\n",
            "MSE training set 541.8\n",
            "MSE test set 531.25\n",
            "R squared training set 0.16\n",
            "R squared test set 0.12\n"
          ]
        },
        {
          "name": "stderr",
          "output_type": "stream",
          "text": [
            "<ipython-input-53-1352bde4deec>:6: SettingWithCopyWarning: \n",
            "A value is trying to be set on a copy of a slice from a DataFrame.\n",
            "Try using .loc[row_indexer,col_indexer] = value instead\n",
            "\n",
            "See the caveats in the documentation: https://pandas.pydata.org/pandas-docs/stable/user_guide/indexing.html#returning-a-view-versus-a-copy\n",
            "  data_pred2['tailedness'] = run_SVR(my_data = data_merge_z3, features=shapemetrics_ind, indyvar= ['tailedness'])\n",
            "<ipython-input-53-1352bde4deec>:7: SettingWithCopyWarning: \n",
            "A value is trying to be set on a copy of a slice from a DataFrame.\n",
            "Try using .loc[row_indexer,col_indexer] = value instead\n",
            "\n",
            "See the caveats in the documentation: https://pandas.pydata.org/pandas-docs/stable/user_guide/indexing.html#returning-a-view-versus-a-copy\n",
            "  data_pred2['blockiness'] = run_SVR(my_data = data_merge_z3, features=shapemetrics_ind, indyvar= ['blockiness'])\n"
          ]
        }
      ],
      "source": [
        "data_merge_z3 = data_z\n",
        "data_pred2 = data_merge_z3.dropna()\n",
        "\n",
        "data_pred2['roundness'] = run_SVR(my_data = data_merge_z3, features=shapemetrics_ind, indyvar= ['roundness'])\n",
        "data_pred2['curviness'] = run_SVR(my_data = data_merge_z3, features=shapemetrics_ind, indyvar= ['curviness'])\n",
        "data_pred2['tailedness'] = run_SVR(my_data = data_merge_z3, features=shapemetrics_ind, indyvar= ['tailedness'])\n",
        "data_pred2['blockiness'] = run_SVR(my_data = data_merge_z3, features=shapemetrics_ind, indyvar= ['blockiness'])\n"
      ]
    },
    {
      "cell_type": "code",
      "execution_count": null,
      "metadata": {
        "colab": {
          "base_uri": "https://localhost:8080/"
        },
        "id": "kdkaVFFEbJE2",
        "outputId": "5cf0e3d6-43ad-46cf-e4e3-71cb16ec39ed"
      },
      "outputs": [
        {
          "name": "stdout",
          "output_type": "stream",
          "text": [
            "yvar is ['deviation_from_usno1']\n",
            "MSE training set 675.49\n",
            "MSE test set 808.96\n",
            "R squared training set -0.05\n",
            "R squared test set -0.14\n"
          ]
        },
        {
          "data": {
            "text/plain": [
              "array([-724993.68345379, -791170.12192997, -791170.12192997, ...,\n",
              "       -565769.44220307, -439437.09467177, -684823.25915218])"
            ]
          },
          "execution_count": 54,
          "metadata": {},
          "output_type": "execute_result"
        }
      ],
      "source": [
        "run_SVR(my_data = data_pred2, features=grading_ind, indyvar= ['deviation_from_usno1'])\n"
      ]
    },
    {
      "cell_type": "markdown",
      "metadata": {
        "id": "3ek3irtwPsu0"
      },
      "source": []
    }
  ],
  "metadata": {
    "accelerator": "GPU",
    "colab": {
      "collapsed_sections": [
        "Nrlsrye5ADX0",
        "CDjPyB6FADX6",
        "Ch3msEV42qfV",
        "pBmY12Tc199u",
        "OmSSzWqe21JY"
      ],
      "gpuType": "T4",
      "provenance": []
    },
    "kernelspec": {
      "display_name": "Python 3",
      "name": "python3"
    },
    "language_info": {
      "codemirror_mode": {
        "name": "ipython",
        "version": 3
      },
      "file_extension": ".py",
      "mimetype": "text/x-python",
      "name": "python",
      "nbconvert_exporter": "python",
      "pygments_lexer": "ipython3",
      "version": "3.11.0"
    }
  },
  "nbformat": 4,
  "nbformat_minor": 0
}
